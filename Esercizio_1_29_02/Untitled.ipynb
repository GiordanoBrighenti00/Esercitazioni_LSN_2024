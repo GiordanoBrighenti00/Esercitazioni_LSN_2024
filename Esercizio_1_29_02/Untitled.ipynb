{
 "cells": [
  {
   "cell_type": "markdown",
   "id": "7c10d406",
   "metadata": {},
   "source": [
    "ESERCIZITAZIONE 1:\n",
    "E' riportata l'analisi dati dei tre esercizi dell'esercitazione 1.\n",
    "\n",
    "    "
   ]
  },
  {
   "cell_type": "markdown",
   "id": "71d87438",
   "metadata": {},
   "source": [
    "Esercizio 1.1: A partire da un generatore di numeri pseudo-casuali sull'intervallo [0,1] con distribuzione uniforme, si è calcolata l'evoluzione del valor medio al variare del numero complessivo N di numeri generati, con annessa la deviazione standard della media. Stampando i risultati su un blocco di testo average.out, si è riprodotto un grafico che riporta i valori della media globale, con le barre d'errore associate alla deviazione standard della media, al variare di N:"
   ]
  },
  {
   "cell_type": "code",
   "execution_count": null,
   "id": "ea9f1088",
   "metadata": {},
   "outputs": [],
   "source": [
    "import asynchat\n",
    "import pandas as pd\n",
    "import numpy as np\n",
    "import matplotlib.pyplot as plt\n",
    "import seaborn as sns\n",
    "\n",
    "#Lettura file\n",
    "filename = \"average.out\"\n",
    "MED = pd.read_table(filename, delimiter = \"\\t\" , usecols=(0,1) , names = ('Media' , 'Stdev_Media') , header = 0)\n",
    "\n",
    "#estrarre i dati dalle colonne del file di testo\n",
    "MED['Media'] = pd.to_numeric(MED['Media'] , errors = 'coerce')\n",
    "MED['Stdev_Media'] = pd.to_numeric(MED['Stdev_Media'] , errors = 'coerce')\n",
    "\n",
    "#caricare i dati estratti in rispettivi array\n",
    "Media_vector = MED['Media']\n",
    "Stdev_Media_vector = MED['Stdev_Media']\n",
    "\n",
    "\n"
   ]
  }
 ],
 "metadata": {
  "kernelspec": {
   "display_name": "Python 3 (ipykernel)",
   "language": "python",
   "name": "python3"
  },
  "language_info": {
   "codemirror_mode": {
    "name": "ipython",
    "version": 3
   },
   "file_extension": ".py",
   "mimetype": "text/x-python",
   "name": "python",
   "nbconvert_exporter": "python",
   "pygments_lexer": "ipython3",
   "version": "3.11.5"
  }
 },
 "nbformat": 4,
 "nbformat_minor": 5
}
