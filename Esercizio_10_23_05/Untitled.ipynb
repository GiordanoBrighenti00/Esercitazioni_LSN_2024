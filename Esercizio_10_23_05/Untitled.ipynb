{
 "cells": [
  {
   "cell_type": "markdown",
   "id": "214540aa",
   "metadata": {},
   "source": [
    "ESERCITAZIONE 10: Risoluzione del problema del commesso viaggiatore (TSP) con il calcolo parallelo.\n",
    "\n",
    "La novità di questa esercitazione è l'impiego del calcolo parallelo: con la libreria MPI si esegue il medesimo algoritmo in un numero $M_{size}$ di processi (nodi) paralleli, indicizzati dal rango $k \\ in \\ [0, M_{size} - 1]$, ciascuno dei quali esegue l'algoritmo genetico con differenti iperparametri. Per semplicità di notazione, l'algoritmo genetico di un dato processo è detto continente.\n",
    "\n",
    "Inoltre, è previsto che, ogni $N_{swap}$ di popolazioni, due continenti, appartenenti a due processi estratti in maniera casuale, si scambino il loro cromosoma migliore. Questo è possibile grazie all'impiego delle operazioni di comunicazione $Send$ e $Recieve$ tra i processi paralleli. Il meccanismo di funzionamento è il seguente: una volta che i nodi paralleli che devono effettuare lo scambio sono stati selezionati e denominati, rispettivamente, $P_1$ e $P_2$, si crea una variabile $buffer$ dove andrà salvato il cromosoma migliore dei relativi nodi. Poi, si invoca la call per il Send del miglior individuo di $P_1$ verso $P_2$ e contemporaneamente la call per il Recieve in $P_2$ di tale vettore, che verrà salvato nel buffer. Poi, è invocato il Recieve in $P_1$ del miglior vettore di $P_2$, che lo salva nel buffer, mentre è chiamato il Send di tale individuo da $P_2$ a $P_2$. Infine, per entrambi i nodi, il cromosoma in posizione $0$ (ovvero quello appena inviato al pocesso complementare) viene sostituito dal buffer temporaneo, che contiene il miglior cromosoma proveniente dall'altro continente. Questo schema tiene conto del fatto che gli operatori Send e Recieve sono delle chiamate bloccanti, ovvero non permettono la prosecuzione dell'esecuzione del codice fino a che la comunicazione non è stata completata, ovvero finchè il vettore non è stato inviato dal primo cromosoma e salvato nel buffer dal cromosoma ricevente.\n",
    "\n",
    "Una volta che l'esecuzione in parallelo è stata completata, si avranno $M_{size}$ nodi con risultati diversi. Per non complicare la quantità di dati da salvare e analizzare, si sceglie di riportare solamente la statistica del nodo $0$, detto nodo principale. Dal momento che tale processo interagisce con gli altri durante l'esecuzione dell'algoritmo genetico, ci si aspetta di trovare risultati differenti rispetto al caso in cui si esegue solamente tale processo senza parallelizzazione."
   ]
  },
  {
   "cell_type": "markdown",
   "id": "db98ce7a",
   "metadata": {},
   "source": [
    "Esercizio 10.1: Si affronta il problema del commesso viaggiatore con 34 posizioni disposte su una circonferenza. Si usano le località già usate nell'esercitazione 9, mantenendo fissato il seed del generatore di numeri pseudo-casuali per estrarre i punti. Si procede scegliendo il numero di nodi su una collezione ristretta di interi: $M_{size} = [1, 2, 5, 8, 11]$. Ogni nodo presenta un continente con un set di iperparametri $(N, p_m, p_c)$ fissato (rispettivamente: numero di cromosomi della popolazione, probabilità di Mutazione, probabilità di Crossover). Per ogni esecuzione, si sceglie di mantenere $N$ e $p_c$ uguali per tutti i processi paralleli, facendo variare, da un continente all'altro, la probabilità di mutazione con la legge $p_m = p_{start} + \\alpha * k$, dove $p_{start}$ è la $p_m$ del nodo $0$. \n",
    "\n",
    "La prima esecuzione studiata è in assenza di parallelizzazione ($M_{size} = 1$) e il suo risultato è confrontato con le prestazioni del nodo $0$ in presenza di processi paralleli ($M_{size} > 1$).\n",
    "\n",
    "Si parte fissando $N = 15$ cromosomi, $p_c = 0.8$ e scegliendo $N_{swap} = 5$. Si decide $p_m = 0.14 + 0.005 * k$. Dunque, verranne salvate le prestazioni del nodo $0$ con $p_m = 0.14$, confrontando le prestazioni tra quando è da solo e quando ha la possibilità di scambiare informazione con i continenti dei nodi paralleli:"
   ]
  },
  {
   "cell_type": "markdown",
   "id": "ae7222ee",
   "metadata": {},
   "source": []
  },
  {
   "cell_type": "code",
   "execution_count": null,
   "id": "8bbc30c5",
   "metadata": {},
   "outputs": [],
   "source": []
  }
 ],
 "metadata": {
  "kernelspec": {
   "display_name": "Python 3 (ipykernel)",
   "language": "python",
   "name": "python3"
  },
  "language_info": {
   "codemirror_mode": {
    "name": "ipython",
    "version": 3
   },
   "file_extension": ".py",
   "mimetype": "text/x-python",
   "name": "python",
   "nbconvert_exporter": "python",
   "pygments_lexer": "ipython3",
   "version": "3.11.5"
  }
 },
 "nbformat": 4,
 "nbformat_minor": 5
}
